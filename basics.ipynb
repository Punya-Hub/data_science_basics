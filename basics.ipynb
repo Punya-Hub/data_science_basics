{
 "cells": [
  {
   "cell_type": "code",
   "execution_count": 91,
   "id": "56300ac9",
   "metadata": {},
   "outputs": [
    {
     "name": "stdout",
     "output_type": "stream",
     "text": [
      "Hello World\n"
     ]
    }
   ],
   "source": [
    "print(\"Hello World\")"
   ]
  },
  {
   "cell_type": "markdown",
   "id": "af360351",
   "metadata": {},
   "source": [
    "# Lists"
   ]
  },
  {
   "cell_type": "code",
   "execution_count": 92,
   "id": "c9b48b0d",
   "metadata": {},
   "outputs": [
    {
     "name": "stdout",
     "output_type": "stream",
     "text": [
      "['India', 'China', 'USA']\n"
     ]
    }
   ],
   "source": [
    "countries = [\"India\", \"China\",\"USA\"]\n",
    "print(countries)"
   ]
  },
  {
   "cell_type": "code",
   "execution_count": 93,
   "id": "edbf1502",
   "metadata": {},
   "outputs": [
    {
     "name": "stdout",
     "output_type": "stream",
     "text": [
      "India\n",
      "China\n",
      "USA\n"
     ]
    }
   ],
   "source": [
    "print(countries[0])\n",
    "print(countries[1])\n",
    "print(countries[2])"
   ]
  },
  {
   "cell_type": "code",
   "execution_count": 94,
   "id": "faa55d96",
   "metadata": {},
   "outputs": [
    {
     "name": "stdout",
     "output_type": "stream",
     "text": [
      "['USA', 'China', 'India']\n"
     ]
    }
   ],
   "source": [
    "print(countries[-1::-1])\n",
    "# print in reverse"
   ]
  },
  {
   "cell_type": "code",
   "execution_count": 95,
   "id": "869390d0",
   "metadata": {},
   "outputs": [
    {
     "name": "stdout",
     "output_type": "stream",
     "text": [
      "['India', 'USA']\n"
     ]
    }
   ],
   "source": [
    "print(countries[0:3:2])"
   ]
  },
  {
   "cell_type": "code",
   "execution_count": 96,
   "id": "6dec0eec",
   "metadata": {},
   "outputs": [
    {
     "name": "stdout",
     "output_type": "stream",
     "text": [
      "['India', 'China', 'USA']\n"
     ]
    }
   ],
   "source": [
    "print(countries[0:])"
   ]
  },
  {
   "cell_type": "markdown",
   "id": "6dae0d3d",
   "metadata": {},
   "source": [
    "## Adding Elements"
   ]
  },
  {
   "cell_type": "code",
   "execution_count": 97,
   "id": "7d912da3",
   "metadata": {},
   "outputs": [
    {
     "data": {
      "text/plain": [
       "['India', 'China', 'USA']"
      ]
     },
     "execution_count": 97,
     "metadata": {},
     "output_type": "execute_result"
    }
   ],
   "source": [
    "countries"
   ]
  },
  {
   "cell_type": "code",
   "execution_count": 98,
   "id": "ddc586f9",
   "metadata": {},
   "outputs": [],
   "source": [
    "countries.append(\"Brazil\")\n",
    "countries.append(\"Australia\")"
   ]
  },
  {
   "cell_type": "code",
   "execution_count": 99,
   "id": "0ab774ca",
   "metadata": {},
   "outputs": [
    {
     "data": {
      "text/plain": [
       "['India', 'China', 'USA', 'Brazil', 'Australia']"
      ]
     },
     "execution_count": 99,
     "metadata": {},
     "output_type": "execute_result"
    }
   ],
   "source": [
    "countries   "
   ]
  },
  {
   "cell_type": "code",
   "execution_count": 100,
   "id": "abb45877",
   "metadata": {},
   "outputs": [],
   "source": [
    "countries.insert(2,\"Spain\")"
   ]
  },
  {
   "cell_type": "code",
   "execution_count": 101,
   "id": "5b37b930",
   "metadata": {},
   "outputs": [
    {
     "data": {
      "text/plain": [
       "['India', 'China', 'Spain', 'USA', 'Brazil', 'Australia']"
      ]
     },
     "execution_count": 101,
     "metadata": {},
     "output_type": "execute_result"
    }
   ],
   "source": [
    "countries"
   ]
  },
  {
   "cell_type": "code",
   "execution_count": 102,
   "id": "21b83b0f",
   "metadata": {},
   "outputs": [
    {
     "data": {
      "text/plain": [
       "['India', 'China', 'Spain', 'USA', 'Brazil', 'Australia', 'UK', 'Japan']"
      ]
     },
     "execution_count": 102,
     "metadata": {},
     "output_type": "execute_result"
    }
   ],
   "source": [
    "countries_2 = [\"UK\",\"Japan\"]\n",
    "countries + countries_2"
   ]
  },
  {
   "cell_type": "code",
   "execution_count": 103,
   "id": "a248d56d",
   "metadata": {},
   "outputs": [
    {
     "data": {
      "text/plain": [
       "['UK', 'Japan', 'India', 'China', 'Spain', 'USA', 'Brazil', 'Australia']"
      ]
     },
     "execution_count": 103,
     "metadata": {},
     "output_type": "execute_result"
    }
   ],
   "source": [
    "countries_2 + countries"
   ]
  },
  {
   "cell_type": "code",
   "execution_count": 104,
   "id": "ca4ddfba",
   "metadata": {},
   "outputs": [
    {
     "data": {
      "text/plain": [
       "[['India', 'China', 'Spain', 'USA', 'Brazil', 'Australia'], ['UK', 'Japan']]"
      ]
     },
     "execution_count": 104,
     "metadata": {},
     "output_type": "execute_result"
    }
   ],
   "source": [
    "nested_list = [countries,countries_2]\n",
    "nested_list"
   ]
  },
  {
   "cell_type": "markdown",
   "id": "62c3c6d6",
   "metadata": {},
   "source": [
    "## Removing Elements"
   ]
  },
  {
   "cell_type": "code",
   "execution_count": 105,
   "id": "f7f1ff34",
   "metadata": {},
   "outputs": [
    {
     "data": {
      "text/plain": [
       "['India', 'China', 'Spain', 'USA', 'Brazil', 'Australia']"
      ]
     },
     "execution_count": 105,
     "metadata": {},
     "output_type": "execute_result"
    }
   ],
   "source": [
    "countries"
   ]
  },
  {
   "cell_type": "code",
   "execution_count": 106,
   "id": "5a398989",
   "metadata": {},
   "outputs": [],
   "source": [
    "countries.remove(\"USA\")"
   ]
  },
  {
   "cell_type": "code",
   "execution_count": 107,
   "id": "6b154f17",
   "metadata": {},
   "outputs": [
    {
     "data": {
      "text/plain": [
       "['India', 'China', 'Spain', 'Brazil', 'Australia']"
      ]
     },
     "execution_count": 107,
     "metadata": {},
     "output_type": "execute_result"
    }
   ],
   "source": [
    "countries"
   ]
  },
  {
   "cell_type": "code",
   "execution_count": 108,
   "id": "d3a479d6",
   "metadata": {},
   "outputs": [
    {
     "data": {
      "text/plain": [
       "['India', 'China', 'Brazil', 'Australia']"
      ]
     },
     "execution_count": 108,
     "metadata": {},
     "output_type": "execute_result"
    }
   ],
   "source": [
    "countries.pop(2)\n",
    "countries"
   ]
  },
  {
   "cell_type": "code",
   "execution_count": 109,
   "id": "bdd30ec8",
   "metadata": {},
   "outputs": [
    {
     "data": {
      "text/plain": [
       "['UK']"
      ]
     },
     "execution_count": 109,
     "metadata": {},
     "output_type": "execute_result"
    }
   ],
   "source": [
    "del countries_2[1]\n",
    "countries_2"
   ]
  },
  {
   "cell_type": "code",
   "execution_count": 110,
   "id": "df48c931",
   "metadata": {},
   "outputs": [
    {
     "data": {
      "text/plain": [
       "['India', 'China', 'Brazil', 'Australia']"
      ]
     },
     "execution_count": 110,
     "metadata": {},
     "output_type": "execute_result"
    }
   ],
   "source": [
    "countries"
   ]
  },
  {
   "cell_type": "code",
   "execution_count": 111,
   "id": "ab41b062",
   "metadata": {},
   "outputs": [
    {
     "data": {
      "text/plain": [
       "['UK']"
      ]
     },
     "execution_count": 111,
     "metadata": {},
     "output_type": "execute_result"
    }
   ],
   "source": [
    "countries_2"
   ]
  },
  {
   "cell_type": "markdown",
   "id": "0b8a087b",
   "metadata": {},
   "source": [
    "## Sorting"
   ]
  },
  {
   "cell_type": "code",
   "execution_count": 112,
   "id": "9078a4c9",
   "metadata": {},
   "outputs": [
    {
     "data": {
      "text/plain": [
       "[1, 3, 3, 4, 4, 4, 5, 5, 7, 7, 7, 8, 8, 9]"
      ]
     },
     "execution_count": 112,
     "metadata": {},
     "output_type": "execute_result"
    }
   ],
   "source": [
    "nums = [1,5,3,7,4,7,7,4,8,9,5,4,3,8]\n",
    "nums.sort()\n",
    "nums"
   ]
  },
  {
   "cell_type": "code",
   "execution_count": 113,
   "id": "6df8298e",
   "metadata": {},
   "outputs": [],
   "source": [
    "nums.sort(reverse=True)"
   ]
  },
  {
   "cell_type": "code",
   "execution_count": 114,
   "id": "ef34683b",
   "metadata": {},
   "outputs": [
    {
     "data": {
      "text/plain": [
       "[9, 8, 8, 7, 7, 7, 5, 5, 4, 4, 4, 3, 3, 1]"
      ]
     },
     "execution_count": 114,
     "metadata": {},
     "output_type": "execute_result"
    }
   ],
   "source": [
    "nums"
   ]
  },
  {
   "cell_type": "markdown",
   "id": "1ae68e23",
   "metadata": {},
   "source": [
    "## Update Elements"
   ]
  },
  {
   "cell_type": "code",
   "execution_count": 115,
   "id": "24d89628",
   "metadata": {},
   "outputs": [
    {
     "data": {
      "text/plain": [
       "[9, 8, 8, 7, 7, 10000, 5, 5, 4, 4, 4, 3, 3, 1]"
      ]
     },
     "execution_count": 115,
     "metadata": {},
     "output_type": "execute_result"
    }
   ],
   "source": [
    "nums[5] = 10000\n",
    "nums"
   ]
  },
  {
   "cell_type": "markdown",
   "id": "59178113",
   "metadata": {},
   "source": [
    "## Copying a list"
   ]
  },
  {
   "cell_type": "code",
   "execution_count": 116,
   "id": "a28ee0f8",
   "metadata": {},
   "outputs": [
    {
     "data": {
      "text/plain": [
       "[1, 2, 3, 4, 5, 6]"
      ]
     },
     "execution_count": 116,
     "metadata": {},
     "output_type": "execute_result"
    }
   ],
   "source": [
    "l = [1,2,3,4,5,6]\n",
    "l"
   ]
  },
  {
   "cell_type": "code",
   "execution_count": 117,
   "id": "1b66f809",
   "metadata": {},
   "outputs": [],
   "source": [
    "new_l = l\n",
    "new_l_2 = l[:]\n",
    "new_l_3 = l.copy()\n",
    "\n"
   ]
  },
  {
   "cell_type": "code",
   "execution_count": 118,
   "id": "a18f5969",
   "metadata": {},
   "outputs": [
    {
     "name": "stdout",
     "output_type": "stream",
     "text": [
      "[1, 2, 3, 4, 5, 6]\n",
      "[1, 2, 3, 4, 5, 6]\n",
      "[1, 2, 3, 4, 5, 6]\n"
     ]
    }
   ],
   "source": [
    "print(new_l)\n",
    "print(new_l_2)\n",
    "print(new_l_3)"
   ]
  },
  {
   "cell_type": "code",
   "execution_count": 119,
   "id": "993ebff8",
   "metadata": {},
   "outputs": [],
   "source": [
    "l = [0,0,0,0,0]"
   ]
  },
  {
   "cell_type": "code",
   "execution_count": 120,
   "id": "4f492d46",
   "metadata": {},
   "outputs": [
    {
     "name": "stdout",
     "output_type": "stream",
     "text": [
      "[1, 2, 3, 4, 5, 6]\n",
      "[1, 2, 3, 4, 5, 6]\n",
      "[1, 2, 3, 4, 5, 6]\n"
     ]
    }
   ],
   "source": [
    "print(new_l)\n",
    "print(new_l_2)\n",
    "print(new_l_3)"
   ]
  },
  {
   "cell_type": "markdown",
   "id": "6ea26872",
   "metadata": {},
   "source": [
    "# Dictionary"
   ]
  },
  {
   "cell_type": "code",
   "execution_count": 121,
   "id": "ed33d9d9",
   "metadata": {},
   "outputs": [],
   "source": [
    "dict = {\"key\":\"value\"}\n",
    "data = {\"name\":\"Punya\",\"ID\":\"2023B3A70280H\"}"
   ]
  },
  {
   "cell_type": "code",
   "execution_count": 122,
   "id": "319af9b3",
   "metadata": {},
   "outputs": [
    {
     "data": {
      "text/plain": [
       "{'name': 'Punya', 'ID': '2023B3A70280H'}"
      ]
     },
     "execution_count": 122,
     "metadata": {},
     "output_type": "execute_result"
    }
   ],
   "source": [
    "data"
   ]
  },
  {
   "cell_type": "code",
   "execution_count": 123,
   "id": "439079a9",
   "metadata": {},
   "outputs": [
    {
     "data": {
      "text/plain": [
       "dict_keys(['name', 'ID'])"
      ]
     },
     "execution_count": 123,
     "metadata": {},
     "output_type": "execute_result"
    }
   ],
   "source": [
    "data.keys()"
   ]
  },
  {
   "cell_type": "code",
   "execution_count": 124,
   "id": "8882edc9",
   "metadata": {},
   "outputs": [
    {
     "data": {
      "text/plain": [
       "dict_values(['Punya', '2023B3A70280H'])"
      ]
     },
     "execution_count": 124,
     "metadata": {},
     "output_type": "execute_result"
    }
   ],
   "source": [
    "data.values()"
   ]
  },
  {
   "cell_type": "code",
   "execution_count": 125,
   "id": "26ffdc59",
   "metadata": {},
   "outputs": [
    {
     "name": "stdout",
     "output_type": "stream",
     "text": [
      "Punya\n",
      "2023B3A70280H\n"
     ]
    }
   ],
   "source": [
    "print(data[\"name\"])\n",
    "print(data[\"ID\"])"
   ]
  },
  {
   "cell_type": "code",
   "execution_count": 126,
   "id": "f3c7e24d",
   "metadata": {},
   "outputs": [
    {
     "data": {
      "text/plain": [
       "dict_items([('name', 'Punya'), ('ID', '2023B3A70280H')])"
      ]
     },
     "execution_count": 126,
     "metadata": {},
     "output_type": "execute_result"
    }
   ],
   "source": [
    "data.items()"
   ]
  },
  {
   "cell_type": "code",
   "execution_count": 127,
   "id": "777e42ee",
   "metadata": {},
   "outputs": [],
   "source": [
    "data[\"height\"] = 183\n"
   ]
  },
  {
   "cell_type": "code",
   "execution_count": 128,
   "id": "8d2e7428",
   "metadata": {},
   "outputs": [
    {
     "data": {
      "text/plain": [
       "dict_items([('name', 'Punya'), ('ID', '2023B3A70280H'), ('height', 183)])"
      ]
     },
     "execution_count": 128,
     "metadata": {},
     "output_type": "execute_result"
    }
   ],
   "source": [
    "data.items()"
   ]
  },
  {
   "cell_type": "code",
   "execution_count": 129,
   "id": "311139cb",
   "metadata": {},
   "outputs": [],
   "source": [
    "data[\"height\"] = \"6 feet\""
   ]
  },
  {
   "cell_type": "code",
   "execution_count": 130,
   "id": "8836ce76",
   "metadata": {},
   "outputs": [
    {
     "data": {
      "text/plain": [
       "dict_items([('name', 'Punya'), ('ID', '2023B3A70280H'), ('height', '6 feet')])"
      ]
     },
     "execution_count": 130,
     "metadata": {},
     "output_type": "execute_result"
    }
   ],
   "source": [
    "data.items()"
   ]
  },
  {
   "cell_type": "markdown",
   "id": "85e8cdc3",
   "metadata": {},
   "source": [
    "## Copy of dict"
   ]
  },
  {
   "cell_type": "code",
   "execution_count": 131,
   "id": "c4fbc5ca",
   "metadata": {},
   "outputs": [],
   "source": [
    "data_2 = data\n",
    "data_3 = data.copy()"
   ]
  },
  {
   "cell_type": "code",
   "execution_count": 132,
   "id": "4a00b16c",
   "metadata": {},
   "outputs": [
    {
     "data": {
      "text/plain": [
       "{'name': 'Punya', 'ID': '2023B3A70280H', 'height': '6 feet'}"
      ]
     },
     "execution_count": 132,
     "metadata": {},
     "output_type": "execute_result"
    }
   ],
   "source": [
    "data_2"
   ]
  },
  {
   "cell_type": "code",
   "execution_count": 133,
   "id": "4fdd1ef4",
   "metadata": {},
   "outputs": [
    {
     "data": {
      "text/plain": [
       "{'name': 'Punya', 'ID': '2023B3A70280H', 'height': '6 feet'}"
      ]
     },
     "execution_count": 133,
     "metadata": {},
     "output_type": "execute_result"
    }
   ],
   "source": [
    "data_3"
   ]
  },
  {
   "cell_type": "code",
   "execution_count": 134,
   "id": "244319d6",
   "metadata": {},
   "outputs": [],
   "source": [
    "data[\"name\"] = \"Khushi\""
   ]
  },
  {
   "cell_type": "code",
   "execution_count": 135,
   "id": "d2f1731c",
   "metadata": {},
   "outputs": [
    {
     "data": {
      "text/plain": [
       "{'name': 'Khushi', 'ID': '2023B3A70280H', 'height': '6 feet'}"
      ]
     },
     "execution_count": 135,
     "metadata": {},
     "output_type": "execute_result"
    }
   ],
   "source": [
    "data"
   ]
  },
  {
   "cell_type": "code",
   "execution_count": 136,
   "id": "4460f3be",
   "metadata": {},
   "outputs": [
    {
     "data": {
      "text/plain": [
       "{'name': 'Khushi', 'ID': '2023B3A70280H', 'height': '6 feet'}"
      ]
     },
     "execution_count": 136,
     "metadata": {},
     "output_type": "execute_result"
    }
   ],
   "source": [
    "data_2"
   ]
  },
  {
   "cell_type": "code",
   "execution_count": 137,
   "id": "4f4c255d",
   "metadata": {},
   "outputs": [
    {
     "data": {
      "text/plain": [
       "{'name': 'Punya', 'ID': '2023B3A70280H', 'height': '6 feet'}"
      ]
     },
     "execution_count": 137,
     "metadata": {},
     "output_type": "execute_result"
    }
   ],
   "source": [
    "data_3"
   ]
  },
  {
   "cell_type": "markdown",
   "id": "0e8ef778",
   "metadata": {},
   "source": [
    "In dict -> a = b -> method create shallow copy same object point both so change in one affect the other too\n",
    "but the d.copy() -> create a proper copy deep copy"
   ]
  },
  {
   "cell_type": "markdown",
   "id": "15bb03fe",
   "metadata": {},
   "source": [
    "## Deleting elements"
   ]
  },
  {
   "cell_type": "code",
   "execution_count": 138,
   "id": "bca2998f",
   "metadata": {},
   "outputs": [
    {
     "data": {
      "text/plain": [
       "'Khushi'"
      ]
     },
     "execution_count": 138,
     "metadata": {},
     "output_type": "execute_result"
    }
   ],
   "source": [
    "data_2.pop(\"name\")"
   ]
  },
  {
   "cell_type": "code",
   "execution_count": 139,
   "id": "b7fbd6ad",
   "metadata": {},
   "outputs": [
    {
     "data": {
      "text/plain": [
       "{'ID': '2023B3A70280H', 'height': '6 feet'}"
      ]
     },
     "execution_count": 139,
     "metadata": {},
     "output_type": "execute_result"
    }
   ],
   "source": [
    "data_2"
   ]
  },
  {
   "cell_type": "code",
   "execution_count": 140,
   "id": "cb2e6231",
   "metadata": {},
   "outputs": [],
   "source": [
    "del data_3['ID']"
   ]
  },
  {
   "cell_type": "code",
   "execution_count": 141,
   "id": "bc7a9c9b",
   "metadata": {},
   "outputs": [
    {
     "data": {
      "text/plain": [
       "{'name': 'Punya', 'height': '6 feet'}"
      ]
     },
     "execution_count": 141,
     "metadata": {},
     "output_type": "execute_result"
    }
   ],
   "source": [
    "data_3"
   ]
  },
  {
   "cell_type": "code",
   "execution_count": 142,
   "id": "a11014b1",
   "metadata": {},
   "outputs": [
    {
     "data": {
      "text/plain": [
       "{}"
      ]
     },
     "execution_count": 142,
     "metadata": {},
     "output_type": "execute_result"
    }
   ],
   "source": [
    "data_2.clear()\n",
    "data_2"
   ]
  },
  {
   "cell_type": "code",
   "execution_count": 144,
   "id": "ead2ab6c",
   "metadata": {},
   "outputs": [
    {
     "data": {
      "text/plain": [
       "{}"
      ]
     },
     "execution_count": 144,
     "metadata": {},
     "output_type": "execute_result"
    }
   ],
   "source": [
    "data_3.clear()\n",
    "data_3"
   ]
  },
  {
   "cell_type": "code",
   "execution_count": null,
   "id": "4b04c8a1",
   "metadata": {},
   "outputs": [],
   "source": []
  }
 ],
 "metadata": {
  "kernelspec": {
   "display_name": "base",
   "language": "python",
   "name": "python3"
  },
  "language_info": {
   "codemirror_mode": {
    "name": "ipython",
    "version": 3
   },
   "file_extension": ".py",
   "mimetype": "text/x-python",
   "name": "python",
   "nbconvert_exporter": "python",
   "pygments_lexer": "ipython3",
   "version": "3.13.5"
  }
 },
 "nbformat": 4,
 "nbformat_minor": 5
}
